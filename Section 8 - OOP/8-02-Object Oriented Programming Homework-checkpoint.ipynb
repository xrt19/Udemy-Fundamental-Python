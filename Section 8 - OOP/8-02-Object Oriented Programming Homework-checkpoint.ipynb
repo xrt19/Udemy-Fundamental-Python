{
 "cells": [
  {
   "cell_type": "markdown",
   "metadata": {},
   "source": [
    "___\n",
    "\n",
    "<a href='https://www.udemy.com/user/joseportilla/'><img src='../Pierian_Data_Logo.png'/></a>\n",
    "___\n",
    "<center><em>Content Copyright by Pierian Data</em></center>"
   ]
  },
  {
   "cell_type": "markdown",
   "metadata": {},
   "source": [
    "# Object Oriented Programming\n",
    "## Homework Assignment\n",
    "\n",
    "#### Problem 1\n",
    "Fill in the Line class methods to accept coordinates as a pair of tuples and return the slope and distance of the line."
   ]
  },
  {
   "cell_type": "code",
   "execution_count": 9,
   "metadata": {},
   "outputs": [
    {
     "data": {
      "text/plain": [
       "1"
      ]
     },
     "execution_count": 9,
     "metadata": {},
     "output_type": "execute_result"
    }
   ],
   "source": [
    "# coretan dokumentasi, biarin jangan di-del\n",
    "\n",
    "import math\n",
    "math.sqrt(16)\n",
    "abs(10-11)\n",
    "\n",
    "# tuple1 = (1, 2, 3)\n",
    "# print(type(tuple1))\n",
    "# print(tuple1[1])"
   ]
  },
  {
   "cell_type": "code",
   "execution_count": 17,
   "metadata": {
    "collapsed": true
   },
   "outputs": [],
   "source": [
    "import math\n",
    "\n",
    "class Line:\n",
    "    \n",
    "    def __init__(self,coor1,coor2):\n",
    "        self.delta_x = abs(coor1[0] - coor2[0])\n",
    "        self.delta_y = abs(coor1[1] - coor2[1])\n",
    "   \n",
    "    def distance(self):\n",
    "        # distance = (delta_x ^ 2 + delta_y ^ 2) ^ 1/2\n",
    "\n",
    "        square_of_delta_x = self.delta_x ** 2\n",
    "        square_of_delta_y = self.delta_y ** 2\n",
    "\n",
    "        distance = (square_of_delta_x + square_of_delta_y)\n",
    "        distance = math.sqrt(distance)\n",
    "\n",
    "        return distance\n",
    "    \n",
    "    def slope(self):\n",
    "        # m = delta_y / delta_x\n",
    "        m = self.delta_y / self.delta_x\n",
    "        return m\n",
    "\n",
    "\n"
   ]
  },
  {
   "cell_type": "code",
   "execution_count": 18,
   "metadata": {
    "collapsed": true
   },
   "outputs": [],
   "source": [
    "# EXAMPLE OUTPUT\n",
    "\n",
    "coordinate1 = (3,2)\n",
    "coordinate2 = (8,10)\n",
    "\n",
    "li = Line(coordinate1,coordinate2)"
   ]
  },
  {
   "cell_type": "code",
   "execution_count": 19,
   "metadata": {},
   "outputs": [
    {
     "data": {
      "text/plain": [
       "9.433981132056603"
      ]
     },
     "execution_count": 19,
     "metadata": {},
     "output_type": "execute_result"
    }
   ],
   "source": [
    "li.distance()\n",
    "\n",
    "# expected: 9.433981132056603"
   ]
  },
  {
   "cell_type": "code",
   "execution_count": 21,
   "metadata": {},
   "outputs": [
    {
     "data": {
      "text/plain": [
       "1.6"
      ]
     },
     "execution_count": 21,
     "metadata": {},
     "output_type": "execute_result"
    }
   ],
   "source": [
    "li.slope()\n",
    "\n",
    "# expected: 1.6"
   ]
  },
  {
   "cell_type": "markdown",
   "metadata": {},
   "source": [
    "________\n",
    "#### Problem 2"
   ]
  },
  {
   "cell_type": "markdown",
   "metadata": {},
   "source": [
    "Fill in the class "
   ]
  },
  {
   "cell_type": "code",
   "execution_count": 27,
   "metadata": {
    "collapsed": true
   },
   "outputs": [],
   "source": [
    "class Cylinder:\n",
    "    # volume = area of circle x height\n",
    "    # surface_area = 2 x area of circle + mantle\n",
    "    # mantle = circumference x height\n",
    "\n",
    "    def __init__(self,height=1,radius=1):\n",
    "        self.area_of_circle = 3.14 * (radius ** 2)\n",
    "        self.radius = radius\n",
    "        self.height = height\n",
    "        \n",
    "    def volume(self):\n",
    "        return self.area_of_circle * self.height\n",
    "    \n",
    "    def surface_area(self):\n",
    "        circumference =  2 * 3.14 * self.radius\n",
    "        mantle = circumference * self.height\n",
    "\n",
    "        return 2 * self.area_of_circle + mantle"
   ]
  },
  {
   "cell_type": "code",
   "execution_count": 28,
   "metadata": {
    "collapsed": true
   },
   "outputs": [],
   "source": [
    "# EXAMPLE OUTPUT\n",
    "c = Cylinder(2,3)"
   ]
  },
  {
   "cell_type": "code",
   "execution_count": 29,
   "metadata": {},
   "outputs": [
    {
     "data": {
      "text/plain": [
       "56.52"
      ]
     },
     "execution_count": 29,
     "metadata": {},
     "output_type": "execute_result"
    }
   ],
   "source": [
    "c.volume()\n",
    "\n",
    "# expected: 56.53"
   ]
  },
  {
   "cell_type": "code",
   "execution_count": 30,
   "metadata": {},
   "outputs": [
    {
     "data": {
      "text/plain": [
       "94.2"
      ]
     },
     "execution_count": 30,
     "metadata": {},
     "output_type": "execute_result"
    }
   ],
   "source": [
    "c.surface_area()\n",
    "\n",
    "# expected: 94.2"
   ]
  }
 ],
 "metadata": {
  "kernelspec": {
   "display_name": "Python 3",
   "language": "python",
   "name": "python3"
  },
  "language_info": {
   "codemirror_mode": {
    "name": "ipython",
    "version": 3
   },
   "file_extension": ".py",
   "mimetype": "text/x-python",
   "name": "python",
   "nbconvert_exporter": "python",
   "pygments_lexer": "ipython3",
   "version": "3.9.16"
  }
 },
 "nbformat": 4,
 "nbformat_minor": 1
}
